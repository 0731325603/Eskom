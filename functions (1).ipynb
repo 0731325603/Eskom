{
 "cells": [
  {
   "cell_type": "markdown",
   "metadata": {},
   "source": [
    "# Analyse : Predict\n",
    "\n",
    "Functions are important in reducing the replication of code as well as giving the user the functionality of getting an ouput on varying inputs. The functions you will write all use Eskom data/variables.\n",
    "\n",
    "For the predict, you will need to write 7 functions. These functions are:\n",
    "\n",
    "1. Metric Dictionary\n",
    "2. Five Number Summary Dictionary\n",
    "3. Date Parser\n",
    "4. Hashtag & Municipality Remover\n",
    "5. Number of Tweets per Day\n",
    "6. Word Splitter\n",
    "7. Stopwords & Link Remover\n"
   ]
  },
  {
   "cell_type": "markdown",
   "metadata": {},
   "source": [
    "# Function 1: Metric Dictionary"
   ]
  },
  {
   "cell_type": "code",
   "execution_count": 39,
   "metadata": {},
   "outputs": [],
   "source": [
    "def metrics(numbers):\n",
    "    #max\n",
    "    max_nu = max(numbers)\n",
    "    #min\n",
    "    min_nu = min(numbers)\n",
    "    \n",
    "    # list of elements to calculate mean\n",
    "    numbers = [1,2,2] \n",
    "    x = len(numbers) \n",
    "    sum_up = sum(numbers)\n",
    "    mean = sum_up / x\n",
    "    \n",
    "    #median\n",
    "    numbers = [] #For all the set of numbers\n",
    "    x = len(numbers) \n",
    "    numbers.sort() \n",
    "    if x % 2 == 0: \n",
    "        first = numbers[x//2] \n",
    "        second = numbers[x//2 - 1] / 2.0\n",
    "        median = (first + second)/2\n",
    "    else: \n",
    "            median = numbers[x//2] \n",
    "    \n",
    "    #variance\n",
    "    var = round(sum((i-mean) ** 2 for i in numbers)/len(numbers),2)\n",
    "    \n",
    "    #standard dev\n",
    "    std = round(var ** (1/2),2)\n",
    "    \n",
    "    #lower quartile not the correct way\n",
    "    #q1 = round((25/100)*(max_nu + min_nu),2)\n",
    "    \n",
    "    #upper quartile not the correct way\n",
    "    #q3 = round((75/100)*(max_nu + min_nu),2)\n",
    "    metrics = {'Mean':mean,'Median':median,'Maximum':max_val,'Minimum':min_val,'Variance':var,'Standard Deviation':std,'Lower quartile':q1,'Upper quartile':q3}\n",
    "\n",
    "    return metrics"
   ]
  },
  {
   "cell_type": "code",
   "execution_count": 36,
   "metadata": {},
   "outputs": [],
   "source": [
    "gauteng = [39660.0,\n",
    "            36024.0,\n",
    "            32127.0,\n",
    "            39488.0,\n",
    "            18422.0,\n",
    "            23532.0,\n",
    "            8842.0,\n",
    "            37416.0,\n",
    "            16156.0,\n",
    "            18730.0,\n",
    "            19261.0,\n",
    "            25275.0]"
   ]
  },
  {
   "cell_type": "code",
   "execution_count": 3,
   "metadata": {},
   "outputs": [],
   "source": [
    "##Fix size\n",
    "dict = metrics(gauteng)"
   ]
  },
  {
   "cell_type": "code",
   "execution_count": 1,
   "metadata": {},
   "outputs": [
    {
     "data": {
      "text/plain": [
       "dict"
      ]
     },
     "execution_count": 1,
     "metadata": {},
     "output_type": "execute_result"
    }
   ],
   "source": [
    "dict"
   ]
  },
  {
   "cell_type": "markdown",
   "metadata": {},
   "source": [
    "# Function 2: Five Number Summary"
   ]
  },
  {
   "cell_type": "code",
   "execution_count": 16,
   "metadata": {},
   "outputs": [
    {
     "name": "stdout",
     "output_type": "stream",
     "text": [
      "1.6666666666666667\n"
     ]
    }
   ],
   "source": [
    "# mean of elements \n",
    "  \n",
    "# list of elements to calculate mean \n",
    "numbers = [1,2,2] #for all set of numbers\n",
    "x = len(numbers) \n",
    "  \n",
    "sum_up = sum(numbers) \n",
    "mean = sum_up / x \n",
    "  \n",
    "print(mean) "
   ]
  },
  {
   "cell_type": "code",
   "execution_count": 42,
   "metadata": {},
   "outputs": [
    {
     "name": "stdout",
     "output_type": "stream",
     "text": [
      "2\n"
     ]
    }
   ],
   "source": [
    "###median\n",
    "x = len(numbers) \n",
    "numbers.sort() \n",
    "if x % 2 == 0: \n",
    "    first = numbers[x//2] \n",
    "    second = numbers[x//2 - 1] \n",
    "    median = (first + second)/2\n",
    "else: \n",
    "    median = numbers[x//2] \n",
    "print(str(median))"
   ]
  },
  {
   "cell_type": "code",
   "execution_count": 50,
   "metadata": {},
   "outputs": [
    {
     "name": "stdout",
     "output_type": "stream",
     "text": [
      "45\n"
     ]
    }
   ],
   "source": [
    "numbers = [1,45,8,7,9]\n",
    "max_nu = max(numbers)\n",
    "print(max_nu)"
   ]
  },
  {
   "cell_type": "code",
   "execution_count": 51,
   "metadata": {},
   "outputs": [
    {
     "name": "stdout",
     "output_type": "stream",
     "text": [
      "1\n"
     ]
    }
   ],
   "source": [
    "#min\n",
    "numbers = [1,7,85,8]\n",
    "min_nu = min(numbers)\n",
    "print(min_nu)"
   ]
  },
  {
   "cell_type": "code",
   "execution_count": 55,
   "metadata": {},
   "outputs": [
    {
     "name": "stdout",
     "output_type": "stream",
     "text": [
      "21.84\n",
      "4.67\n"
     ]
    }
   ],
   "source": [
    "#var\n",
    "numbers = [1,2,8,8,7]\n",
    "var = round(sum((i-mean) ** 2 for i in numbers)/len(numbers),2)\n",
    "print(var)\n",
    "\n",
    "std = round(var ** (1/2),2)\n",
    "print(std)"
   ]
  },
  {
   "cell_type": "code",
   "execution_count": 57,
   "metadata": {},
   "outputs": [
    {
     "name": "stdout",
     "output_type": "stream",
     "text": [
      "11.5\n"
     ]
    }
   ],
   "source": [
    "q1 = round((25/100)*(max_val + min_val),2)\n",
    "print(q1)"
   ]
  },
  {
   "cell_type": "code",
   "execution_count": 61,
   "metadata": {},
   "outputs": [
    {
     "name": "stdout",
     "output_type": "stream",
     "text": [
      "34.5\n"
     ]
    }
   ],
   "source": [
    "q3 = round((75/100)*(max_nu + min_nu),2)\n",
    "print(q3)"
   ]
  },
  {
   "cell_type": "code",
   "execution_count": 18,
   "metadata": {},
   "outputs": [],
   "source": [
    "def metrics(numbers):\n",
    "    #max\n",
    "    max_nu = max(numbers)\n",
    "    #min\n",
    "    min_nu = min(numbers)\n",
    "    \n",
    "    # list of elements to calculate mean\n",
    "    numbers = [1,2,2] \n",
    "    x = len(numbers) \n",
    "    sum_up = sum(numbers)\n",
    "    mean = sum_up / x\n",
    "    \n",
    "    #median\n",
    "    numbers = [] #For all the set of numbers\n",
    "    x = len(numbers) \n",
    "    numbers.sort() \n",
    "    if x % 2 == 0: \n",
    "        first = numbers[x//2] \n",
    "        second = numbers[x//2 - 1] \n",
    "        median = (first + second)/2\n",
    "    else: \n",
    "            median = numbers[x//2] \n",
    "    \n",
    "    #variance\n",
    "    var = round(sum((i-mean) ** 2 for i in numbers)/len(numbers),2)\n",
    "    \n",
    "    #standard dev\n",
    "    std = round(var ** (1/2),2)\n",
    "    \n",
    "    #lower quartile not the correct way\n",
    "    #q1 = round((25/100)*(max_nu + min_nu),2)\n",
    "    \n",
    "    #upper quartile not the correct way\n",
    "    #q3 = round((75/100)*(max_nu + min_nu),2)\n",
    "\n",
    "    return({'Mean':mean,'Median':median,'Maximum':max_val,'Minimum':min_val,'Variance':var,'Standard Deviation':std,'Lower quartile':q1,'Upper quartile':q3})"
   ]
  },
  {
   "cell_type": "markdown",
   "metadata": {},
   "source": [
    "# Function 3: Date Parser"
   ]
  },
  {
   "cell_type": "code",
   "execution_count": 11,
   "metadata": {},
   "outputs": [],
   "source": [
    "dates = ['2019-11-29 12:50:54',\n",
    "         '2019-11-29 12:46:53',\n",
    "         '2019-11-29 12:46:10',\n",
    "         '2019-11-29 12:33:36',\n",
    "         '2019-11-29 12:17:43',\n",
    "         '2019-11-29 11:28:40']"
   ]
  },
  {
   "cell_type": "code",
   "execution_count": 15,
   "metadata": {},
   "outputs": [],
   "source": [
    "\n",
    "def date_parser(list_dates):\n",
    "    dates_1 = []\n",
    "    for date in list_dates:\n",
    "        date_1.append(date[0:10])\n",
    "        return date_1\n"
   ]
  },
  {
   "cell_type": "code",
   "execution_count": 40,
   "metadata": {},
   "outputs": [
    {
     "ename": "SyntaxError",
     "evalue": "unexpected EOF while parsing (<ipython-input-40-9ba12486bc01>, line 6)",
     "output_type": "error",
     "traceback": [
      "\u001b[1;36m  File \u001b[1;32m\"<ipython-input-40-9ba12486bc01>\"\u001b[1;36m, line \u001b[1;32m6\u001b[0m\n\u001b[1;33m    print(maximum([45, -78, 950, 39, -567])\u001b[0m\n\u001b[1;37m                                           ^\u001b[0m\n\u001b[1;31mSyntaxError\u001b[0m\u001b[1;31m:\u001b[0m unexpected EOF while parsing\n"
     ]
    }
   ],
   "source": [
    "#maximum function\n",
    "\n",
    "def maximum(x):\n",
    "    x = sorted(x)\n",
    "    return x[-1]\n",
    "print(maximum([45, -78, 950, 39, -567])"
   ]
  },
  {
   "cell_type": "code",
   "execution_count": 1,
   "metadata": {},
   "outputs": [
    {
     "name": "stdout",
     "output_type": "stream",
     "text": [
      "number of elements in list: 2\n",
      "place elements: 1\n",
      "place elements: 8\n",
      "1\n"
     ]
    }
   ],
   "source": [
    "#minimum function for consideration\n",
    "\n",
    "array = []\n",
    "x = int(input(\"number of elements in list: \")) \n",
    "for i in range(0, x): \n",
    "    ele = int(input(\"place elements: \")) \n",
    "    array.append(ele)\n",
    "\n",
    "min = array[ 0 ]\n",
    "for a in array:\n",
    "    if a < min:\n",
    "        min = a\n",
    "print (min)"
   ]
  },
  {
   "cell_type": "code",
   "execution_count": 2,
   "metadata": {},
   "outputs": [
    {
     "name": "stdout",
     "output_type": "stream",
     "text": [
      "Enter number of elements in list: 2\n",
      "Enter elements: 1\n",
      "Enter elements: 2\n"
     ]
    },
    {
     "ename": "TypeError",
     "evalue": "'<' not supported between instances of 'int' and 'builtin_function_or_method'",
     "output_type": "error",
     "traceback": [
      "\u001b[1;31m---------------------------------------------------------------------------\u001b[0m",
      "\u001b[1;31mTypeError\u001b[0m                                 Traceback (most recent call last)",
      "\u001b[1;32m<ipython-input-2-213cf6297e7a>\u001b[0m in \u001b[0;36m<module>\u001b[1;34m\u001b[0m\n\u001b[0;32m      7\u001b[0m \u001b[0mmin\u001b[0m \u001b[1;33m=\u001b[0m \u001b[0marray\u001b[0m\u001b[1;33m[\u001b[0m \u001b[1;36m0\u001b[0m \u001b[1;33m]\u001b[0m\u001b[1;33m\u001b[0m\u001b[1;33m\u001b[0m\u001b[0m\n\u001b[0;32m      8\u001b[0m \u001b[1;32mfor\u001b[0m \u001b[0ma\u001b[0m \u001b[1;32min\u001b[0m \u001b[0marray\u001b[0m\u001b[1;33m:\u001b[0m\u001b[1;33m\u001b[0m\u001b[1;33m\u001b[0m\u001b[0m\n\u001b[1;32m----> 9\u001b[1;33m     \u001b[1;32mif\u001b[0m \u001b[0ma\u001b[0m \u001b[1;33m<\u001b[0m \u001b[0mmax\u001b[0m\u001b[1;33m:\u001b[0m\u001b[1;33m\u001b[0m\u001b[1;33m\u001b[0m\u001b[0m\n\u001b[0m\u001b[0;32m     10\u001b[0m         \u001b[0mmax\u001b[0m \u001b[1;33m=\u001b[0m \u001b[0ma\u001b[0m\u001b[1;33m\u001b[0m\u001b[1;33m\u001b[0m\u001b[0m\n\u001b[0;32m     11\u001b[0m \u001b[0mprint\u001b[0m \u001b[1;33m(\u001b[0m\u001b[1;34m\"The minimum number in the list is: \"\u001b[0m\u001b[1;33m,\u001b[0m \u001b[0mmin\u001b[0m\u001b[1;33m)\u001b[0m\u001b[1;33m\u001b[0m\u001b[1;33m\u001b[0m\u001b[0m\n",
      "\u001b[1;31mTypeError\u001b[0m: '<' not supported between instances of 'int' and 'builtin_function_or_method'"
     ]
    }
   ],
   "source": [
    "array = []\n",
    "num = int(input(\"Enter number of elements in list: \")) \n",
    "for i in range(0, num): \n",
    "    ele = int(input(\"Enter elements: \")) \n",
    "    array.append(ele)\n",
    "\n",
    "min = array[ 0 ]\n",
    "for a in array:\n",
    "    if a < min:\n",
    "        max = a\n",
    "print (\"The minimum number in the list is: \", min)"
   ]
  },
  {
   "cell_type": "markdown",
   "metadata": {},
   "source": [
    "# Function 4: Municipality & Hashtag Remover"
   ]
  },
  {
   "cell_type": "code",
   "execution_count": null,
   "metadata": {},
   "outputs": [],
   "source": []
  },
  {
   "cell_type": "markdown",
   "metadata": {},
   "source": [
    "# Function 7: Stop Words & Link Remover"
   ]
  },
  {
   "cell_type": "code",
   "execution_count": 1,
   "metadata": {},
   "outputs": [],
   "source": [
    "import pandas as pd"
   ]
  },
  {
   "cell_type": "code",
   "execution_count": 2,
   "metadata": {},
   "outputs": [],
   "source": [
    "url = 'https://raw.githubusercontent.com/RidhaMoosa/eskom_data-/master/twitter_nov_2019.csv'\n",
    "twitter_df = pd.read_csv(url)\n",
    "\n",
    "dates = twitter_df['Date'].to_list()"
   ]
  },
  {
   "cell_type": "code",
   "execution_count": 3,
   "metadata": {},
   "outputs": [
    {
     "name": "stdout",
     "output_type": "stream",
     "text": [
      "                                                Tweets                 Date\n",
      "0    @BongaDlulane Please send an email to mediades...  2019-11-29 12:50:54\n",
      "1           @saucy_mamiie Pls log a call on 0860037566  2019-11-29 12:46:53\n",
      "2         @BongaDlulane Query escalated to media desk.  2019-11-29 12:46:10\n",
      "3    Before leaving the office this afternoon, head...  2019-11-29 12:33:36\n",
      "4    #ESKOMFREESTATE #MEDIASTATEMENT : ESKOM SUSPEN...  2019-11-29 12:17:43\n",
      "..                                                 ...                  ...\n",
      "195  Eskom's Visitors Centres’ facilities include i...  2019-11-20 10:29:07\n",
      "196  #Eskom connected 400 houses and in the process...  2019-11-20 10:25:20\n",
      "197       @ArthurGodbeer Is the power restored as yet?  2019-11-20 10:07:59\n",
      "198  @MuthambiPaulina @SABCNewsOnline @IOL @eNCA @e...  2019-11-20 10:07:41\n",
      "199  RT @GP_DHS: The @GautengProvince made a commit...  2019-11-20 10:00:09\n",
      "\n",
      "[200 rows x 2 columns]\n"
     ]
    }
   ],
   "source": [
    "print(twitter_df)"
   ]
  },
  {
   "cell_type": "code",
   "execution_count": 4,
   "metadata": {},
   "outputs": [
    {
     "ename": "UnboundLocalError",
     "evalue": "local variable 'stopwords' referenced before assignment",
     "output_type": "error",
     "traceback": [
      "\u001b[1;31m---------------------------------------------------------------------------\u001b[0m",
      "\u001b[1;31mUnboundLocalError\u001b[0m                         Traceback (most recent call last)",
      "\u001b[1;32m<ipython-input-4-9da5f5a39608>\u001b[0m in \u001b[0;36m<module>\u001b[1;34m\u001b[0m\n\u001b[0;32m     16\u001b[0m         \u001b[0mcomment_words\u001b[0m \u001b[1;33m=\u001b[0m \u001b[0mcomment_words\u001b[0m \u001b[1;33m+\u001b[0m \u001b[0mwords\u001b[0m \u001b[1;33m+\u001b[0m \u001b[1;34m' '\u001b[0m\u001b[1;33m\u001b[0m\u001b[1;33m\u001b[0m\u001b[0m\n\u001b[0;32m     17\u001b[0m     \u001b[1;32mreturn\u001b[0m \u001b[0mdf\u001b[0m\u001b[1;33m\u001b[0m\u001b[1;33m\u001b[0m\u001b[0m\n\u001b[1;32m---> 18\u001b[1;33m \u001b[0mstop_words_http_remover\u001b[0m\u001b[1;33m(\u001b[0m\u001b[0mtwitter_df\u001b[0m\u001b[1;33m)\u001b[0m\u001b[1;33m\u001b[0m\u001b[1;33m\u001b[0m\u001b[0m\n\u001b[0m",
      "\u001b[1;32m<ipython-input-4-9da5f5a39608>\u001b[0m in \u001b[0;36mstop_words_http_remover\u001b[1;34m(df)\u001b[0m\n\u001b[0;32m      7\u001b[0m     \u001b[0mstop_words_dict\u001b[0m \u001b[1;33m=\u001b[0m \u001b[1;33m{\u001b[0m\u001b[1;34m'stopwords'\u001b[0m\u001b[1;33m:\u001b[0m\u001b[1;33m[\u001b[0m\u001b[1;34m'where'\u001b[0m\u001b[1;33m,\u001b[0m \u001b[1;34m'done'\u001b[0m\u001b[1;33m,\u001b[0m \u001b[1;34m'if'\u001b[0m\u001b[1;33m,\u001b[0m \u001b[1;34m'before'\u001b[0m\u001b[1;33m,\u001b[0m \u001b[1;34m'll'\u001b[0m\u001b[1;33m,\u001b[0m \u001b[1;34m'very'\u001b[0m\u001b[1;33m,\u001b[0m \u001b[1;34m'keep'\u001b[0m\u001b[1;33m,\u001b[0m \u001b[1;34m'something'\u001b[0m\u001b[1;33m,\u001b[0m \u001b[1;34m'nothing'\u001b[0m\u001b[1;33m,\u001b[0m \u001b[1;34m'thereupon'\u001b[0m\u001b[1;33m,\u001b[0m \u001b[1;34m'may'\u001b[0m\u001b[1;33m,\u001b[0m \u001b[1;34m'why'\u001b[0m\u001b[1;33m,\u001b[0m \u001b[1;34m'’s'\u001b[0m\u001b[1;33m,\u001b[0m \u001b[1;34m'therefore'\u001b[0m\u001b[1;33m,\u001b[0m \u001b[1;34m'you'\u001b[0m\u001b[1;33m,\u001b[0m \u001b[1;34m'with'\u001b[0m\u001b[1;33m,\u001b[0m \u001b[1;34m'towards'\u001b[0m\u001b[1;33m,\u001b[0m \u001b[1;34m'make'\u001b[0m\u001b[1;33m,\u001b[0m \u001b[1;34m'really'\u001b[0m\u001b[1;33m,\u001b[0m \u001b[1;34m'few'\u001b[0m\u001b[1;33m,\u001b[0m \u001b[1;34m'former'\u001b[0m\u001b[1;33m,\u001b[0m \u001b[1;34m'during'\u001b[0m\u001b[1;33m,\u001b[0m \u001b[1;34m'mine'\u001b[0m\u001b[1;33m,\u001b[0m \u001b[1;34m'do'\u001b[0m\u001b[1;33m,\u001b[0m \u001b[1;34m'would'\u001b[0m\u001b[1;33m,\u001b[0m \u001b[1;34m'of'\u001b[0m\u001b[1;33m,\u001b[0m \u001b[1;34m'off'\u001b[0m\u001b[1;33m,\u001b[0m \u001b[1;34m'six'\u001b[0m\u001b[1;33m,\u001b[0m \u001b[1;34m'yourself'\u001b[0m\u001b[1;33m,\u001b[0m \u001b[1;34m'becoming'\u001b[0m\u001b[1;33m,\u001b[0m \u001b[1;34m'through'\u001b[0m\u001b[1;33m,\u001b[0m \u001b[1;34m'seeming'\u001b[0m\u001b[1;33m,\u001b[0m \u001b[1;34m'hence'\u001b[0m\u001b[1;33m,\u001b[0m \u001b[1;34m'us'\u001b[0m\u001b[1;33m,\u001b[0m \u001b[1;34m'anywhere'\u001b[0m\u001b[1;33m,\u001b[0m \u001b[1;34m'regarding'\u001b[0m\u001b[1;33m,\u001b[0m \u001b[1;34m'whole'\u001b[0m\u001b[1;33m,\u001b[0m \u001b[1;34m'down'\u001b[0m\u001b[1;33m,\u001b[0m \u001b[1;34m'seem'\u001b[0m\u001b[1;33m,\u001b[0m \u001b[1;34m'whereas'\u001b[0m\u001b[1;33m,\u001b[0m \u001b[1;34m'to'\u001b[0m\u001b[1;33m,\u001b[0m \u001b[1;34m'their'\u001b[0m\u001b[1;33m,\u001b[0m \u001b[1;34m'various'\u001b[0m\u001b[1;33m,\u001b[0m \u001b[1;34m'thereafter'\u001b[0m\u001b[1;33m,\u001b[0m \u001b[1;34m'‘d'\u001b[0m\u001b[1;33m,\u001b[0m \u001b[1;34m'above'\u001b[0m\u001b[1;33m,\u001b[0m \u001b[1;34m'put'\u001b[0m\u001b[1;33m,\u001b[0m \u001b[1;34m'sometime'\u001b[0m\u001b[1;33m,\u001b[0m \u001b[1;34m'moreover'\u001b[0m\u001b[1;33m,\u001b[0m \u001b[1;34m'whoever'\u001b[0m\u001b[1;33m,\u001b[0m \u001b[1;34m'although'\u001b[0m\u001b[1;33m,\u001b[0m \u001b[1;34m'at'\u001b[0m\u001b[1;33m,\u001b[0m \u001b[1;34m'four'\u001b[0m\u001b[1;33m,\u001b[0m \u001b[1;34m'each'\u001b[0m\u001b[1;33m,\u001b[0m \u001b[1;34m'among'\u001b[0m\u001b[1;33m,\u001b[0m \u001b[1;34m'whatever'\u001b[0m\u001b[1;33m,\u001b[0m \u001b[1;34m'any'\u001b[0m\u001b[1;33m,\u001b[0m \u001b[1;34m'anyhow'\u001b[0m\u001b[1;33m,\u001b[0m \u001b[1;34m'herein'\u001b[0m\u001b[1;33m,\u001b[0m \u001b[1;34m'become'\u001b[0m\u001b[1;33m,\u001b[0m \u001b[1;34m'last'\u001b[0m\u001b[1;33m,\u001b[0m \u001b[1;34m'between'\u001b[0m\u001b[1;33m,\u001b[0m \u001b[1;34m'still'\u001b[0m\u001b[1;33m,\u001b[0m \u001b[1;34m'was'\u001b[0m\u001b[1;33m,\u001b[0m \u001b[1;34m'almost'\u001b[0m\u001b[1;33m,\u001b[0m \u001b[1;34m'twelve'\u001b[0m\u001b[1;33m,\u001b[0m \u001b[1;34m'used'\u001b[0m\u001b[1;33m,\u001b[0m \u001b[1;34m'who'\u001b[0m\u001b[1;33m,\u001b[0m \u001b[1;34m'go'\u001b[0m\u001b[1;33m,\u001b[0m \u001b[1;34m'not'\u001b[0m\u001b[1;33m,\u001b[0m \u001b[1;34m'enough'\u001b[0m\u001b[1;33m,\u001b[0m \u001b[1;34m'well'\u001b[0m\u001b[1;33m,\u001b[0m \u001b[1;34m'’ve'\u001b[0m\u001b[1;33m,\u001b[0m \u001b[1;34m'might'\u001b[0m\u001b[1;33m,\u001b[0m \u001b[1;34m'see'\u001b[0m\u001b[1;33m,\u001b[0m \u001b[1;34m'whose'\u001b[0m\u001b[1;33m,\u001b[0m \u001b[1;34m'everywhere'\u001b[0m\u001b[1;33m,\u001b[0m \u001b[1;34m'yourselves'\u001b[0m\u001b[1;33m,\u001b[0m \u001b[1;34m'across'\u001b[0m\u001b[1;33m,\u001b[0m \u001b[1;34m'myself'\u001b[0m\u001b[1;33m,\u001b[0m \u001b[1;34m'further'\u001b[0m\u001b[1;33m,\u001b[0m \u001b[1;34m'did'\u001b[0m\u001b[1;33m,\u001b[0m \u001b[1;34m'then'\u001b[0m\u001b[1;33m,\u001b[0m \u001b[1;34m'is'\u001b[0m\u001b[1;33m,\u001b[0m \u001b[1;34m'except'\u001b[0m\u001b[1;33m,\u001b[0m \u001b[1;34m'up'\u001b[0m\u001b[1;33m,\u001b[0m \u001b[1;34m'take'\u001b[0m\u001b[1;33m,\u001b[0m \u001b[1;34m'became'\u001b[0m\u001b[1;33m,\u001b[0m \u001b[1;34m'however'\u001b[0m\u001b[1;33m,\u001b[0m \u001b[1;34m'many'\u001b[0m\u001b[1;33m,\u001b[0m \u001b[1;34m'thence'\u001b[0m\u001b[1;33m,\u001b[0m \u001b[1;34m'onto'\u001b[0m\u001b[1;33m,\u001b[0m \u001b[1;34m'‘m'\u001b[0m\u001b[1;33m,\u001b[0m \u001b[1;34m'my'\u001b[0m\u001b[1;33m,\u001b[0m \u001b[1;34m'own'\u001b[0m\u001b[1;33m,\u001b[0m \u001b[1;34m'must'\u001b[0m\u001b[1;33m,\u001b[0m \u001b[1;34m'wherein'\u001b[0m\u001b[1;33m,\u001b[0m \u001b[1;34m'elsewhere'\u001b[0m\u001b[1;33m,\u001b[0m \u001b[1;34m'behind'\u001b[0m\u001b[1;33m,\u001b[0m \u001b[1;34m'becomes'\u001b[0m\u001b[1;33m,\u001b[0m \u001b[1;34m'alone'\u001b[0m\u001b[1;33m,\u001b[0m \u001b[1;34m'due'\u001b[0m\u001b[1;33m,\u001b[0m \u001b[1;34m'being'\u001b[0m\u001b[1;33m,\u001b[0m \u001b[1;34m'neither'\u001b[0m\u001b[1;33m,\u001b[0m \u001b[1;34m'a'\u001b[0m\u001b[1;33m,\u001b[0m \u001b[1;34m'over'\u001b[0m\u001b[1;33m,\u001b[0m \u001b[1;34m'beside'\u001b[0m\u001b[1;33m,\u001b[0m \u001b[1;34m'fifteen'\u001b[0m\u001b[1;33m,\u001b[0m \u001b[1;34m'meanwhile'\u001b[0m\u001b[1;33m,\u001b[0m \u001b[1;34m'upon'\u001b[0m\u001b[1;33m,\u001b[0m \u001b[1;34m'next'\u001b[0m\u001b[1;33m,\u001b[0m \u001b[1;34m'forty'\u001b[0m\u001b[1;33m,\u001b[0m \u001b[1;34m'what'\u001b[0m\u001b[1;33m,\u001b[0m \u001b[1;34m'less'\u001b[0m\u001b[1;33m,\u001b[0m \u001b[1;34m'and'\u001b[0m\u001b[1;33m,\u001b[0m \u001b[1;34m'please'\u001b[0m\u001b[1;33m,\u001b[0m \u001b[1;34m'toward'\u001b[0m\u001b[1;33m,\u001b[0m \u001b[1;34m'about'\u001b[0m\u001b[1;33m,\u001b[0m \u001b[1;34m'below'\u001b[0m\u001b[1;33m,\u001b[0m \u001b[1;34m'hereafter'\u001b[0m\u001b[1;33m,\u001b[0m \u001b[1;34m'whether'\u001b[0m\u001b[1;33m,\u001b[0m \u001b[1;34m'yet'\u001b[0m\u001b[1;33m,\u001b[0m \u001b[1;34m'nor'\u001b[0m\u001b[1;33m,\u001b[0m \u001b[1;34m'against'\u001b[0m\u001b[1;33m,\u001b[0m \u001b[1;34m'whereupon'\u001b[0m\u001b[1;33m,\u001b[0m \u001b[1;34m'top'\u001b[0m\u001b[1;33m,\u001b[0m \u001b[1;34m'first'\u001b[0m\u001b[1;33m,\u001b[0m \u001b[1;34m'three'\u001b[0m\u001b[1;33m,\u001b[0m \u001b[1;34m'show'\u001b[0m\u001b[1;33m,\u001b[0m \u001b[1;34m'per'\u001b[0m\u001b[1;33m,\u001b[0m \u001b[1;34m'five'\u001b[0m\u001b[1;33m,\u001b[0m \u001b[1;34m'two'\u001b[0m\u001b[1;33m,\u001b[0m \u001b[1;34m'ourselves'\u001b[0m\u001b[1;33m,\u001b[0m \u001b[1;34m'whenever'\u001b[0m\u001b[1;33m,\u001b[0m \u001b[1;34m'get'\u001b[0m\u001b[1;33m,\u001b[0m \u001b[1;34m'thereby'\u001b[0m\u001b[1;33m,\u001b[0m \u001b[1;34m'noone'\u001b[0m\u001b[1;33m,\u001b[0m \u001b[1;34m'had'\u001b[0m\u001b[1;33m,\u001b[0m \u001b[1;34m'now'\u001b[0m\u001b[1;33m,\u001b[0m \u001b[1;34m'everyone'\u001b[0m\u001b[1;33m,\u001b[0m \u001b[1;34m'everything'\u001b[0m\u001b[1;33m,\u001b[0m \u001b[1;34m'nowhere'\u001b[0m\u001b[1;33m,\u001b[0m \u001b[1;34m'ca'\u001b[0m\u001b[1;33m,\u001b[0m \u001b[1;34m'though'\u001b[0m\u001b[1;33m,\u001b[0m \u001b[1;34m'least'\u001b[0m\u001b[1;33m,\u001b[0m \u001b[1;34m'so'\u001b[0m\u001b[1;33m,\u001b[0m \u001b[1;34m'both'\u001b[0m\u001b[1;33m,\u001b[0m \u001b[1;34m'otherwise'\u001b[0m\u001b[1;33m,\u001b[0m \u001b[1;34m'whereby'\u001b[0m\u001b[1;33m,\u001b[0m \u001b[1;34m'unless'\u001b[0m\u001b[1;33m,\u001b[0m \u001b[1;34m'somewhere'\u001b[0m\u001b[1;33m,\u001b[0m \u001b[1;34m'give'\u001b[0m\u001b[1;33m,\u001b[0m \u001b[1;34m'formerly'\u001b[0m\u001b[1;33m,\u001b[0m \u001b[1;34m'’d'\u001b[0m\u001b[1;33m,\u001b[0m \u001b[1;34m'under'\u001b[0m\u001b[1;33m,\u001b[0m \u001b[1;34m'while'\u001b[0m\u001b[1;33m,\u001b[0m \u001b[1;34m'empty'\u001b[0m\u001b[1;33m,\u001b[0m \u001b[1;34m'doing'\u001b[0m\u001b[1;33m,\u001b[0m \u001b[1;34m'besides'\u001b[0m\u001b[1;33m,\u001b[0m \u001b[1;34m'thus'\u001b[0m\u001b[1;33m,\u001b[0m \u001b[1;34m'this'\u001b[0m\u001b[1;33m,\u001b[0m \u001b[1;34m'anyone'\u001b[0m\u001b[1;33m,\u001b[0m \u001b[1;34m'its'\u001b[0m\u001b[1;33m,\u001b[0m \u001b[1;34m'after'\u001b[0m\u001b[1;33m,\u001b[0m \u001b[1;34m'bottom'\u001b[0m\u001b[1;33m,\u001b[0m \u001b[1;34m'call'\u001b[0m\u001b[1;33m,\u001b[0m \u001b[1;34m'n’t'\u001b[0m\u001b[1;33m,\u001b[0m \u001b[1;34m'name'\u001b[0m\u001b[1;33m,\u001b[0m \u001b[1;34m'even'\u001b[0m\u001b[1;33m,\u001b[0m \u001b[1;34m'eleven'\u001b[0m\u001b[1;33m,\u001b[0m \u001b[1;34m'by'\u001b[0m\u001b[1;33m,\u001b[0m \u001b[1;34m'from'\u001b[0m\u001b[1;33m,\u001b[0m \u001b[1;34m'when'\u001b[0m\u001b[1;33m,\u001b[0m \u001b[1;34m'or'\u001b[0m\u001b[1;33m,\u001b[0m \u001b[1;34m'anyway'\u001b[0m\u001b[1;33m,\u001b[0m \u001b[1;34m'how'\u001b[0m\u001b[1;33m,\u001b[0m \u001b[1;34m'the'\u001b[0m\u001b[1;33m,\u001b[0m \u001b[1;34m'all'\u001b[0m\u001b[1;33m,\u001b[0m \u001b[1;34m'much'\u001b[0m\u001b[1;33m,\u001b[0m \u001b[1;34m'another'\u001b[0m\u001b[1;33m,\u001b[0m \u001b[1;34m'since'\u001b[0m\u001b[1;33m,\u001b[0m \u001b[1;34m'hundred'\u001b[0m\u001b[1;33m,\u001b[0m \u001b[1;34m'serious'\u001b[0m\u001b[1;33m,\u001b[0m \u001b[1;34m'‘ve'\u001b[0m\u001b[1;33m,\u001b[0m \u001b[1;34m'ever'\u001b[0m\u001b[1;33m,\u001b[0m \u001b[1;34m'out'\u001b[0m\u001b[1;33m,\u001b[0m \u001b[1;34m'full'\u001b[0m\u001b[1;33m,\u001b[0m \u001b[1;34m'themselves'\u001b[0m\u001b[1;33m,\u001b[0m \u001b[1;34m'been'\u001b[0m\u001b[1;33m,\u001b[0m \u001b[1;34m'in'\u001b[0m\u001b[1;33m,\u001b[0m \u001b[1;34m\"'d\"\u001b[0m\u001b[1;33m,\u001b[0m \u001b[1;34m'wherever'\u001b[0m\u001b[1;33m,\u001b[0m \u001b[1;34m'part'\u001b[0m\u001b[1;33m,\u001b[0m \u001b[1;34m'someone'\u001b[0m\u001b[1;33m,\u001b[0m \u001b[1;34m'therein'\u001b[0m\u001b[1;33m,\u001b[0m \u001b[1;34m'can'\u001b[0m\u001b[1;33m,\u001b[0m \u001b[1;34m'seemed'\u001b[0m\u001b[1;33m,\u001b[0m \u001b[1;34m'hereby'\u001b[0m\u001b[1;33m,\u001b[0m \u001b[1;34m'others'\u001b[0m\u001b[1;33m,\u001b[0m \u001b[1;34m\"'s\"\u001b[0m\u001b[1;33m,\u001b[0m \u001b[1;34m\"'re\"\u001b[0m\u001b[1;33m,\u001b[0m \u001b[1;34m'most'\u001b[0m\u001b[1;33m,\u001b[0m \u001b[1;34m'one'\u001b[0m\u001b[1;33m,\u001b[0m \u001b[1;34m\"n't\"\u001b[0m\u001b[1;33m,\u001b[0m \u001b[1;34m'into'\u001b[0m\u001b[1;33m,\u001b[0m \u001b[1;34m'some'\u001b[0m\u001b[1;33m,\u001b[0m \u001b[1;34m'will'\u001b[0m\u001b[1;33m,\u001b[0m \u001b[1;34m'these'\u001b[0m\u001b[1;33m,\u001b[0m \u001b[1;34m'twenty'\u001b[0m\u001b[1;33m,\u001b[0m \u001b[1;34m'here'\u001b[0m\u001b[1;33m,\u001b[0m \u001b[1;34m'as'\u001b[0m\u001b[1;33m,\u001b[0m \u001b[1;34m'nobody'\u001b[0m\u001b[1;33m,\u001b[0m \u001b[1;34m'also'\u001b[0m\u001b[1;33m,\u001b[0m \u001b[1;34m'along'\u001b[0m\u001b[1;33m,\u001b[0m \u001b[1;34m'than'\u001b[0m\u001b[1;33m,\u001b[0m \u001b[1;34m'anything'\u001b[0m\u001b[1;33m,\u001b[0m \u001b[1;34m'he'\u001b[0m\u001b[1;33m,\u001b[0m \u001b[1;34m'there'\u001b[0m\u001b[1;33m,\u001b[0m \u001b[1;34m'does'\u001b[0m\u001b[1;33m,\u001b[0m \u001b[1;34m'we'\u001b[0m\u001b[1;33m,\u001b[0m \u001b[1;34m'’ll'\u001b[0m\u001b[1;33m,\u001b[0m \u001b[1;34m'latterly'\u001b[0m\u001b[1;33m,\u001b[0m \u001b[1;34m'are'\u001b[0m\u001b[1;33m,\u001b[0m \u001b[1;34m'ten'\u001b[0m\u001b[1;33m,\u001b[0m \u001b[1;34m'hers'\u001b[0m\u001b[1;33m,\u001b[0m \u001b[1;34m'should'\u001b[0m\u001b[1;33m,\u001b[0m \u001b[1;34m'they'\u001b[0m\u001b[1;33m,\u001b[0m \u001b[1;34m'‘s'\u001b[0m\u001b[1;33m,\u001b[0m \u001b[1;34m'either'\u001b[0m\u001b[1;33m,\u001b[0m \u001b[1;34m'am'\u001b[0m\u001b[1;33m,\u001b[0m \u001b[1;34m'be'\u001b[0m\u001b[1;33m,\u001b[0m \u001b[1;34m'perhaps'\u001b[0m\u001b[1;33m,\u001b[0m \u001b[1;34m'’re'\u001b[0m\u001b[1;33m,\u001b[0m \u001b[1;34m'only'\u001b[0m\u001b[1;33m,\u001b[0m \u001b[1;34m'namely'\u001b[0m\u001b[1;33m,\u001b[0m \u001b[1;34m'sixty'\u001b[0m\u001b[1;33m,\u001b[0m \u001b[1;34m'made'\u001b[0m\u001b[1;33m,\u001b[0m \u001b[1;34m\"'m\"\u001b[0m\u001b[1;33m,\u001b[0m \u001b[1;34m'always'\u001b[0m\u001b[1;33m,\u001b[0m \u001b[1;34m'those'\u001b[0m\u001b[1;33m,\u001b[0m \u001b[1;34m'have'\u001b[0m\u001b[1;33m,\u001b[0m \u001b[1;34m'again'\u001b[0m\u001b[1;33m,\u001b[0m \u001b[1;34m'her'\u001b[0m\u001b[1;33m,\u001b[0m \u001b[1;34m'once'\u001b[0m\u001b[1;33m,\u001b[0m \u001b[1;34m'ours'\u001b[0m\u001b[1;33m,\u001b[0m \u001b[1;34m'herself'\u001b[0m\u001b[1;33m,\u001b[0m \u001b[1;34m'else'\u001b[0m\u001b[1;33m,\u001b[0m \u001b[1;34m'has'\u001b[0m\u001b[1;33m,\u001b[0m \u001b[1;34m'nine'\u001b[0m\u001b[1;33m,\u001b[0m \u001b[1;34m'more'\u001b[0m\u001b[1;33m,\u001b[0m \u001b[1;34m'sometimes'\u001b[0m\u001b[1;33m,\u001b[0m \u001b[1;34m'your'\u001b[0m\u001b[1;33m,\u001b[0m \u001b[1;34m'yours'\u001b[0m\u001b[1;33m,\u001b[0m \u001b[1;34m'that'\u001b[0m\u001b[1;33m,\u001b[0m \u001b[1;34m'around'\u001b[0m\u001b[1;33m,\u001b[0m \u001b[1;34m'his'\u001b[0m\u001b[1;33m,\u001b[0m \u001b[1;34m'indeed'\u001b[0m\u001b[1;33m,\u001b[0m \u001b[1;34m'mostly'\u001b[0m\u001b[1;33m,\u001b[0m \u001b[1;34m'cannot'\u001b[0m\u001b[1;33m,\u001b[0m \u001b[1;34m'‘ll'\u001b[0m\u001b[1;33m,\u001b[0m \u001b[1;34m'too'\u001b[0m\u001b[1;33m,\u001b[0m \u001b[1;34m'seems'\u001b[0m\u001b[1;33m,\u001b[0m \u001b[1;34m'’m'\u001b[0m\u001b[1;33m,\u001b[0m \u001b[1;34m'himself'\u001b[0m\u001b[1;33m,\u001b[0m \u001b[1;34m'latter'\u001b[0m\u001b[1;33m,\u001b[0m \u001b[1;34m'whither'\u001b[0m\u001b[1;33m,\u001b[0m \u001b[1;34m'amount'\u001b[0m\u001b[1;33m,\u001b[0m \u001b[1;34m'other'\u001b[0m\u001b[1;33m,\u001b[0m \u001b[1;34m'nevertheless'\u001b[0m\u001b[1;33m,\u001b[0m \u001b[1;34m'whom'\u001b[0m\u001b[1;33m,\u001b[0m \u001b[1;34m'for'\u001b[0m\u001b[1;33m,\u001b[0m \u001b[1;34m'somehow'\u001b[0m\u001b[1;33m,\u001b[0m \u001b[1;34m'beforehand'\u001b[0m\u001b[1;33m,\u001b[0m \u001b[1;34m'just'\u001b[0m\u001b[1;33m,\u001b[0m \u001b[1;34m'an'\u001b[0m\u001b[1;33m,\u001b[0m \u001b[1;34m'beyond'\u001b[0m\u001b[1;33m,\u001b[0m \u001b[1;34m'amongst'\u001b[0m\u001b[1;33m,\u001b[0m \u001b[1;34m'none'\u001b[0m\u001b[1;33m,\u001b[0m \u001b[1;34m\"'ve\"\u001b[0m\u001b[1;33m,\u001b[0m \u001b[1;34m'say'\u001b[0m\u001b[1;33m,\u001b[0m \u001b[1;34m'via'\u001b[0m\u001b[1;33m,\u001b[0m \u001b[1;34m'but'\u001b[0m\u001b[1;33m,\u001b[0m \u001b[1;34m'often'\u001b[0m\u001b[1;33m,\u001b[0m \u001b[1;34m're'\u001b[0m\u001b[1;33m,\u001b[0m \u001b[1;34m'our'\u001b[0m\u001b[1;33m,\u001b[0m \u001b[1;34m'because'\u001b[0m\u001b[1;33m,\u001b[0m \u001b[1;34m'rather'\u001b[0m\u001b[1;33m,\u001b[0m \u001b[1;34m'using'\u001b[0m\u001b[1;33m,\u001b[0m \u001b[1;34m'without'\u001b[0m\u001b[1;33m,\u001b[0m \u001b[1;34m'throughout'\u001b[0m\u001b[1;33m,\u001b[0m \u001b[1;34m'on'\u001b[0m\u001b[1;33m,\u001b[0m \u001b[1;34m'she'\u001b[0m\u001b[1;33m,\u001b[0m \u001b[1;34m'never'\u001b[0m\u001b[1;33m,\u001b[0m \u001b[1;34m'eight'\u001b[0m\u001b[1;33m,\u001b[0m \u001b[1;34m'no'\u001b[0m\u001b[1;33m,\u001b[0m \u001b[1;34m'hereupon'\u001b[0m\u001b[1;33m,\u001b[0m \u001b[1;34m'them'\u001b[0m\u001b[1;33m,\u001b[0m \u001b[1;34m'whereafter'\u001b[0m\u001b[1;33m,\u001b[0m \u001b[1;34m'quite'\u001b[0m\u001b[1;33m,\u001b[0m \u001b[1;34m'which'\u001b[0m\u001b[1;33m,\u001b[0m \u001b[1;34m'move'\u001b[0m\u001b[1;33m,\u001b[0m \u001b[1;34m'thru'\u001b[0m\u001b[1;33m,\u001b[0m \u001b[1;34m'until'\u001b[0m\u001b[1;33m,\u001b[0m \u001b[1;34m'afterwards'\u001b[0m\u001b[1;33m,\u001b[0m \u001b[1;34m'fifty'\u001b[0m\u001b[1;33m,\u001b[0m \u001b[1;34m'i'\u001b[0m\u001b[1;33m,\u001b[0m \u001b[1;34m'itself'\u001b[0m\u001b[1;33m,\u001b[0m \u001b[1;34m'n‘t'\u001b[0m\u001b[1;33m,\u001b[0m \u001b[1;34m'him'\u001b[0m\u001b[1;33m,\u001b[0m \u001b[1;34m'could'\u001b[0m\u001b[1;33m,\u001b[0m \u001b[1;34m'front'\u001b[0m\u001b[1;33m,\u001b[0m \u001b[1;34m'within'\u001b[0m\u001b[1;33m,\u001b[0m \u001b[1;34m'‘re'\u001b[0m\u001b[1;33m,\u001b[0m \u001b[1;34m'back'\u001b[0m\u001b[1;33m,\u001b[0m \u001b[1;34m'such'\u001b[0m\u001b[1;33m,\u001b[0m \u001b[1;34m'already'\u001b[0m\u001b[1;33m,\u001b[0m \u001b[1;34m'several'\u001b[0m\u001b[1;33m,\u001b[0m \u001b[1;34m'side'\u001b[0m\u001b[1;33m,\u001b[0m \u001b[1;34m'whence'\u001b[0m\u001b[1;33m,\u001b[0m \u001b[1;34m'me'\u001b[0m\u001b[1;33m,\u001b[0m \u001b[1;34m'same'\u001b[0m\u001b[1;33m,\u001b[0m \u001b[1;34m'were'\u001b[0m\u001b[1;33m,\u001b[0m \u001b[1;34m'it'\u001b[0m\u001b[1;33m,\u001b[0m \u001b[1;34m'every'\u001b[0m\u001b[1;33m,\u001b[0m \u001b[1;34m'third'\u001b[0m\u001b[1;33m,\u001b[0m \u001b[1;34m'together'\u001b[0m\u001b[1;33m]\u001b[0m\u001b[1;33m}\u001b[0m\u001b[1;33m\u001b[0m\u001b[1;33m\u001b[0m\u001b[0m\n\u001b[0;32m      8\u001b[0m     \u001b[0mcomment_words\u001b[0m \u001b[1;33m=\u001b[0m \u001b[1;34m' '\u001b[0m\u001b[1;33m\u001b[0m\u001b[1;33m\u001b[0m\u001b[0m\n\u001b[1;32m----> 9\u001b[1;33m     \u001b[0mstopwords\u001b[0m \u001b[1;33m=\u001b[0m \u001b[0mset\u001b[0m\u001b[1;33m(\u001b[0m\u001b[0mstopwords\u001b[0m\u001b[1;33m)\u001b[0m\u001b[1;33m\u001b[0m\u001b[1;33m\u001b[0m\u001b[0m\n\u001b[0m\u001b[0;32m     10\u001b[0m     \u001b[1;32mfor\u001b[0m \u001b[0mval\u001b[0m \u001b[1;32min\u001b[0m \u001b[0mdf\u001b[0m\u001b[1;33m.\u001b[0m\u001b[0mtwitter_df\u001b[0m\u001b[1;33m:\u001b[0m\u001b[1;33m\u001b[0m\u001b[1;33m\u001b[0m\u001b[0m\n\u001b[0;32m     11\u001b[0m         \u001b[0mval\u001b[0m \u001b[1;33m=\u001b[0m \u001b[0mstr\u001b[0m\u001b[1;33m(\u001b[0m\u001b[0mval\u001b[0m\u001b[1;33m)\u001b[0m\u001b[1;33m\u001b[0m\u001b[1;33m\u001b[0m\u001b[0m\n",
      "\u001b[1;31mUnboundLocalError\u001b[0m: local variable 'stopwords' referenced before assignment"
     ]
    }
   ],
   "source": [
    "\n",
    "############################\n",
    "###Still need to be fixed\n",
    "##############################\n",
    "\n",
    "\n",
    "def stop_words_http_remover(df):\n",
    "    stop_words_dict = {'stopwords':['where', 'done', 'if', 'before', 'll', 'very', 'keep', 'something', 'nothing', 'thereupon', 'may', 'why', '’s', 'therefore', 'you', 'with', 'towards', 'make', 'really', 'few', 'former', 'during', 'mine', 'do', 'would', 'of', 'off', 'six', 'yourself', 'becoming', 'through', 'seeming', 'hence', 'us', 'anywhere', 'regarding', 'whole', 'down', 'seem', 'whereas', 'to', 'their', 'various', 'thereafter', '‘d', 'above', 'put', 'sometime', 'moreover', 'whoever', 'although', 'at', 'four', 'each', 'among', 'whatever', 'any', 'anyhow', 'herein', 'become', 'last', 'between', 'still', 'was', 'almost', 'twelve', 'used', 'who', 'go', 'not', 'enough', 'well', '’ve', 'might', 'see', 'whose', 'everywhere', 'yourselves', 'across', 'myself', 'further', 'did', 'then', 'is', 'except', 'up', 'take', 'became', 'however', 'many', 'thence', 'onto', '‘m', 'my', 'own', 'must', 'wherein', 'elsewhere', 'behind', 'becomes', 'alone', 'due', 'being', 'neither', 'a', 'over', 'beside', 'fifteen', 'meanwhile', 'upon', 'next', 'forty', 'what', 'less', 'and', 'please', 'toward', 'about', 'below', 'hereafter', 'whether', 'yet', 'nor', 'against', 'whereupon', 'top', 'first', 'three', 'show', 'per', 'five', 'two', 'ourselves', 'whenever', 'get', 'thereby', 'noone', 'had', 'now', 'everyone', 'everything', 'nowhere', 'ca', 'though', 'least', 'so', 'both', 'otherwise', 'whereby', 'unless', 'somewhere', 'give', 'formerly', '’d', 'under', 'while', 'empty', 'doing', 'besides', 'thus', 'this', 'anyone', 'its', 'after', 'bottom', 'call', 'n’t', 'name', 'even', 'eleven', 'by', 'from', 'when', 'or', 'anyway', 'how', 'the', 'all', 'much', 'another', 'since', 'hundred', 'serious', '‘ve', 'ever', 'out', 'full', 'themselves', 'been', 'in', \"'d\", 'wherever', 'part', 'someone', 'therein', 'can', 'seemed', 'hereby', 'others', \"'s\", \"'re\", 'most', 'one', \"n't\", 'into', 'some', 'will', 'these', 'twenty', 'here', 'as', 'nobody', 'also', 'along', 'than', 'anything', 'he', 'there', 'does', 'we', '’ll', 'latterly', 'are', 'ten', 'hers', 'should', 'they', '‘s', 'either', 'am', 'be', 'perhaps', '’re', 'only', 'namely', 'sixty', 'made', \"'m\", 'always', 'those', 'have', 'again', 'her', 'once', 'ours', 'herself', 'else', 'has', 'nine', 'more', 'sometimes', 'your', 'yours', 'that', 'around', 'his', 'indeed', 'mostly', 'cannot', '‘ll', 'too', 'seems', '’m', 'himself', 'latter', 'whither', 'amount', 'other', 'nevertheless', 'whom', 'for', 'somehow', 'beforehand', 'just', 'an', 'beyond', 'amongst', 'none', \"'ve\", 'say', 'via', 'but', 'often', 're', 'our', 'because', 'rather', 'using', 'without', 'throughout', 'on', 'she', 'never', 'eight', 'no', 'hereupon', 'them', 'whereafter', 'quite', 'which', 'move', 'thru', 'until', 'afterwards', 'fifty', 'i', 'itself', 'n‘t', 'him', 'could', 'front', 'within', '‘re', 'back', 'such', 'already', 'several', 'side', 'whence', 'me', 'same', 'were', 'it', 'every', 'third', 'together']}\n",
    "    comment_words = ' ' \n",
    "    stopwords = set(stopwords) \n",
    "    for val in df.twitter_df:\n",
    "        val = str(val) \n",
    "    tokens = val.split() \n",
    "    for i in range(len(tokens)):\n",
    "        tokens[i] = tokens[i].lower() \n",
    "    for words in tokens:\n",
    "        comment_words = comment_words + words + ' '\n",
    "    return df\n",
    "stop_words_http_remover(twitter_df)\n"
   ]
  },
  {
   "cell_type": "code",
   "execution_count": null,
   "metadata": {},
   "outputs": [],
   "source": []
  },
  {
   "cell_type": "code",
   "execution_count": null,
   "metadata": {},
   "outputs": [],
   "source": []
  }
 ],
 "metadata": {
  "kernelspec": {
   "display_name": "Python 3",
   "language": "python",
   "name": "python3"
  },
  "language_info": {
   "codemirror_mode": {
    "name": "ipython",
    "version": 3
   },
   "file_extension": ".py",
   "mimetype": "text/x-python",
   "name": "python",
   "nbconvert_exporter": "python",
   "pygments_lexer": "ipython3",
   "version": "3.7.4"
  }
 },
 "nbformat": 4,
 "nbformat_minor": 2
}
