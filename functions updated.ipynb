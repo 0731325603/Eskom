{
 "cells": [
  {
   "cell_type": "markdown",
   "metadata": {},
   "source": [
    "# Analyse : Predict\n",
    "\n",
    "Functions are important in reducing the replication of code as well as giving the user the functionality of getting an ouput on varying inputs. The functions you will write all use Eskom data/variables.\n",
    "\n",
    "For the predict, you will need to write 7 functions. These functions are:\n",
    "\n",
    "1. Metric Dictionary\n",
    "2. Five Number Summary Dictionary\n",
    "3. Date Parser\n",
    "4. Hashtag & Municipality Remover\n",
    "5. Number of Tweets per Day\n",
    "6. Word Splitter\n",
    "7. Stopwords & Link Remover\n"
   ]
  },
  {
   "cell_type": "code",
   "execution_count": 15,
   "metadata": {},
   "outputs": [],
   "source": [
    "import numpy as np\n",
    "import pandas as pd"
   ]
  },
  {
   "cell_type": "code",
   "execution_count": 16,
   "metadata": {},
   "outputs": [],
   "source": [
    "url = 'https://raw.githubusercontent.com/RidhaMoosa/eskom_data-/master/electrification_by_province.csv'\n",
    "ebp = pd.read_csv(url)\n",
    "\n",
    "for col, row in ebp.iloc[:,1:].iteritems():\n",
    "    ebp[col] = ebp[col].str.replace(',','').astype(int)\n",
    "\n",
    "limpopo = ebp['Limpopo'].to_list()\n",
    "limpopo = [float(x) for x in limpopo]\n",
    "\n",
    "mpumalanga = ebp['Mpumalanga'].to_list()\n",
    "mpumalanga = [float(x) for x in mpumalanga]\n",
    "\n",
    "north_west = ebp['North west'].to_list()\n",
    "north_west = [float(x) for x in north_west]\n",
    "\n",
    "free_state = ebp['Free State'].to_list()\n",
    "free_state = [float(x) for x in free_state]\n",
    "\n",
    "kwazulu_natal = ebp['Kwazulu Natal'].to_list()\n",
    "kwazulu_natal = [float(x) for x in kwazulu_natal]\n",
    "\n",
    "eastern_cape = ebp['Eastern Cape'].to_list()\n",
    "eastern_cape = [float(x) for x in eastern_cape]\n",
    "\n",
    "western_cape = ebp['Western Cape'].to_list()\n",
    "western_cape = [float(x) for x in western_cape]\n",
    "\n",
    "northern_cape = ebp['Northern Cape'].to_list()\n",
    "northern_cape = [float(x) for x in northern_cape]\n",
    "\n",
    "gauteng = ebp['Gauteng'].to_list()\n",
    "gauteng = [float(x) for x in gauteng]"
   ]
  },
  {
   "cell_type": "code",
   "execution_count": 17,
   "metadata": {},
   "outputs": [],
   "source": [
    "url = 'https://raw.githubusercontent.com/RidhaMoosa/eskom_data-/master/twitter_nov_2019.csv'\n",
    "twitter_df = pd.read_csv(url)\n",
    "\n",
    "dates = twitter_df['Date'].to_list()"
   ]
  },
  {
   "cell_type": "markdown",
   "metadata": {},
   "source": [
    "# Function 1: Metric Dictionary"
   ]
  },
  {
   "cell_type": "code",
   "execution_count": 10,
   "metadata": {},
   "outputs": [
    {
     "name": "stdout",
     "output_type": "stream",
     "text": [
      "{'mean': 26244.42, 'median': 24403.5, 'variance': 99146807.08, 'standard deviation': 9957.25, 'min': 8842.0, 'max': 39660.0, 'q1': 18653.0, 'q3': 36372.0}\n"
     ]
    }
   ],
   "source": [
    "gauteng = [39660.0,\n",
    "            36024.0,\n",
    "            32127.0,\n",
    "            39488.0,\n",
    "            18422.0,\n",
    "            23532.0,\n",
    "            8842.0,\n",
    "            37416.0,\n",
    "            16156.0,\n",
    "            18730.0,\n",
    "            19261.0,\n",
    "            25275.0]\n",
    "\n",
    "maximum = max (gauteng)\n",
    "minimum = min (gauteng)\n",
    "q1 = np.percentile(gauteng,25)\n",
    "q3 = np.percentile(gauteng,75)\n",
    "mean = np.mean(gauteng)\n",
    "median =np.median(gauteng)\n",
    "variance = np.var(gauteng)\n",
    "standard_dev = np.std(gauteng)\n",
    "\n",
    "dictionary_of_metrics = {'mean': round(mean,2),\n",
    "                                   'median': round(median,2),\n",
    "                                   'variance': round(variance,2),\n",
    "                                   'standard deviation': round(standard_dev,2),\n",
    "                                   'min': round(minimum,2),\n",
    "                                   'max': round(maximum,2),\n",
    "                                    'q1':round(q1,2),\n",
    "                                    'q3':round(q3,2)}\n",
    "\n",
    "print(dictionary_of_metrics)"
   ]
  },
  {
   "cell_type": "markdown",
   "metadata": {},
   "source": [
    "# Function 2: Five Number Summary"
   ]
  },
  {
   "cell_type": "code",
   "execution_count": 12,
   "metadata": {},
   "outputs": [
    {
     "name": "stdout",
     "output_type": "stream",
     "text": [
      "{'mean': 26244.42, 'min': 8842.0, 'max': 39660.0, 'q1': 18653.0, 'q3': 36372.0}\n"
     ]
    }
   ],
   "source": [
    "maximum = max (gauteng)\n",
    "minimum = min (gauteng)\n",
    "q1 = np.percentile(gauteng,25)\n",
    "q3 = np.percentile(gauteng,75)\n",
    "median =np.median(gauteng)\n",
    "\n",
    "five_num_summary= {'mean': round(mean,2),\n",
    "                                   'min': round(minimum,2),\n",
    "                                   'max': round(maximum,2),\n",
    "                                    'q1':round(q1,2),\n",
    "                                    'q3':round(q3,2)}\n",
    "\n",
    "print(five_num_summary)"
   ]
  },
  {
   "cell_type": "markdown",
   "metadata": {},
   "source": [
    "# Function 3: Date Parser"
   ]
  },
  {
   "cell_type": "code",
   "execution_count": 69,
   "metadata": {},
   "outputs": [],
   "source": [
    "dates = ['2019-11-29 12:50:54',\n",
    "         '2019-11-29 12:46:53',\n",
    "         '2019-11-29 12:46:10',\n",
    "         '2019-11-29 12:33:36',\n",
    "         '2019-11-29 12:17:43',\n",
    "         '2019-11-29 11:28:40']"
   ]
  },
  {
   "cell_type": "code",
   "execution_count": 87,
   "metadata": {},
   "outputs": [],
   "source": [
    "\n",
    "def date_parser(list_dates):\n",
    "    dates_1 = []\n",
    "    for date in list_dates:\n",
    "        date_1.append(date[0:10])\n",
    "        return date_1\n"
   ]
  },
  {
   "cell_type": "markdown",
   "metadata": {},
   "source": [
    "# Function 4: Municipality & Hashtag Remover"
   ]
  },
  {
   "cell_type": "code",
   "execution_count": null,
   "metadata": {},
   "outputs": [],
   "source": []
  },
  {
   "cell_type": "code",
   "execution_count": null,
   "metadata": {},
   "outputs": [],
   "source": []
  },
  {
   "cell_type": "markdown",
   "metadata": {},
   "source": [
    "# Function 5: Number of Tweets per Day"
   ]
  },
  {
   "cell_type": "code",
   "execution_count": 19,
   "metadata": {},
   "outputs": [
    {
     "data": {
      "text/html": [
       "<div>\n",
       "<style scoped>\n",
       "    .dataframe tbody tr th:only-of-type {\n",
       "        vertical-align: middle;\n",
       "    }\n",
       "\n",
       "    .dataframe tbody tr th {\n",
       "        vertical-align: top;\n",
       "    }\n",
       "\n",
       "    .dataframe thead th {\n",
       "        text-align: right;\n",
       "    }\n",
       "</style>\n",
       "<table border=\"1\" class=\"dataframe\">\n",
       "  <thead>\n",
       "    <tr style=\"text-align: right;\">\n",
       "      <th></th>\n",
       "      <th>Tweets</th>\n",
       "      <th>Date</th>\n",
       "    </tr>\n",
       "  </thead>\n",
       "  <tbody>\n",
       "    <tr>\n",
       "      <th>0</th>\n",
       "      <td>@BongaDlulane Please send an email to mediades...</td>\n",
       "      <td>2019-11-29 12:50:54</td>\n",
       "    </tr>\n",
       "    <tr>\n",
       "      <th>1</th>\n",
       "      <td>@saucy_mamiie Pls log a call on 0860037566</td>\n",
       "      <td>2019-11-29 12:46:53</td>\n",
       "    </tr>\n",
       "    <tr>\n",
       "      <th>2</th>\n",
       "      <td>@BongaDlulane Query escalated to media desk.</td>\n",
       "      <td>2019-11-29 12:46:10</td>\n",
       "    </tr>\n",
       "    <tr>\n",
       "      <th>3</th>\n",
       "      <td>Before leaving the office this afternoon, head...</td>\n",
       "      <td>2019-11-29 12:33:36</td>\n",
       "    </tr>\n",
       "    <tr>\n",
       "      <th>4</th>\n",
       "      <td>#ESKOMFREESTATE #MEDIASTATEMENT : ESKOM SUSPEN...</td>\n",
       "      <td>2019-11-29 12:17:43</td>\n",
       "    </tr>\n",
       "  </tbody>\n",
       "</table>\n",
       "</div>"
      ],
      "text/plain": [
       "                                              Tweets                 Date\n",
       "0  @BongaDlulane Please send an email to mediades...  2019-11-29 12:50:54\n",
       "1         @saucy_mamiie Pls log a call on 0860037566  2019-11-29 12:46:53\n",
       "2       @BongaDlulane Query escalated to media desk.  2019-11-29 12:46:10\n",
       "3  Before leaving the office this afternoon, head...  2019-11-29 12:33:36\n",
       "4  #ESKOMFREESTATE #MEDIASTATEMENT : ESKOM SUSPEN...  2019-11-29 12:17:43"
      ]
     },
     "execution_count": 19,
     "metadata": {},
     "output_type": "execute_result"
    }
   ],
   "source": [
    "twitter_df = pd.read_csv(url)\n",
    "twitter_df.head()"
   ]
  },
  {
   "cell_type": "code",
   "execution_count": 42,
   "metadata": {},
   "outputs": [
    {
     "data": {
      "text/plain": [
       "200"
      ]
     },
     "execution_count": 42,
     "metadata": {},
     "output_type": "execute_result"
    }
   ],
   "source": [
    "#twitter_df.count(['Tweets'])\n",
    "twitter_df['Tweets'].count()\n"
   ]
  },
  {
   "cell_type": "code",
   "execution_count": 65,
   "metadata": {},
   "outputs": [
    {
     "ename": "NameError",
     "evalue": "name 'Tweets' is not defined",
     "output_type": "error",
     "traceback": [
      "\u001b[1;31m---------------------------------------------------------------------------\u001b[0m",
      "\u001b[1;31mNameError\u001b[0m                                 Traceback (most recent call last)",
      "\u001b[1;32m<ipython-input-65-feef3f049c7a>\u001b[0m in \u001b[0;36m<module>\u001b[1;34m\u001b[0m\n\u001b[0;32m      1\u001b[0m \u001b[0mDate_Group\u001b[0m \u001b[1;33m=\u001b[0m \u001b[0mdf\u001b[0m\u001b[1;33m.\u001b[0m\u001b[0mgroupby\u001b[0m\u001b[1;33m(\u001b[0m\u001b[1;34m\"Date\"\u001b[0m\u001b[1;33m)\u001b[0m\u001b[1;33m\u001b[0m\u001b[1;33m\u001b[0m\u001b[0m\n\u001b[1;32m----> 2\u001b[1;33m \u001b[0mDate_Group\u001b[0m\u001b[1;33m[\u001b[0m\u001b[0mTweets\u001b[0m\u001b[1;33m]\u001b[0m\u001b[1;33m.\u001b[0m\u001b[0magg\u001b[0m\u001b[1;33m(\u001b[0m\u001b[1;34m\"sum\"\u001b[0m\u001b[1;33m)\u001b[0m\u001b[1;33m\u001b[0m\u001b[1;33m\u001b[0m\u001b[0m\n\u001b[0m",
      "\u001b[1;31mNameError\u001b[0m: name 'Tweets' is not defined"
     ]
    }
   ],
   "source": [
    "Date_Group = df.groupby(\"Date\")\n",
    "Date_Group[Tweets].agg(\"sum\")"
   ]
  },
  {
   "cell_type": "code",
   "execution_count": 55,
   "metadata": {},
   "outputs": [
    {
     "data": {
      "text/plain": [
       "@MuthambiPaulina @SABCNewsOnline @IOL @eNCA @ewnupdates @TheCitizen_News @News24 @SAgovnews @AfricaNews24_7 Is the power restored as yet?           1\n",
       "@Magudulela_M Please report your issue to our Customer Services Centre via one of the following channels 0860037566… https://t.co/WJrPE6rYpn        1\n",
       "RT @CityPowerJhb: #WestfieldPlannedOutage in progress  until 16:00. Please note it's necessary to do essential to do maintenance work on ou…        1\n",
       "Eskom customers are requested to log a service request call on MyEskom Customer App https://t.co/99xBTCodMz  . The… https://t.co/804JKColpR         1\n",
       "#JabuMabuza : While we continue to face operational and financial challenges, for the interim reporting period endi… https://t.co/fVSOHBXJjn        1\n",
       "@dalungstar @CityofJoburgZA Please report to Customer Services on 08600 37566                                                                       1\n",
       "Being #energyefficient in the office is simple with these easy tips. #UseElectricitySmartly and minimise the risk o… https://t.co/3hvScTcpvV        1\n",
       "Eskom wishes to warn the public about recruitment scams. Eskom vacancies are advertised on our website… https://t.co/AEyyNYzKKm                     1\n",
       "#POWERALERT 1\\nDate: 25 November 2019\\n\\nNo loadshedding expected today, despite a constrained and vulnerable system https://t.co/5ljKHQVDd4        1\n",
       "@mashiyanef Thanks.                                                                                                                                 1\n",
       "#EskomLimpopo :  Customers in  Mantsole area are experiencing electricity supply interruptions due to a fault on th… https://t.co/UEVSFPYizo        1\n",
       "@ElaineJack888 Call escalated to Customer Services                                                                                                  1\n",
       "Cable theft is one of the main reasons for constant power outages. Report cable theft to @CrimeLineZA… https://t.co/Oo0BBBXg2V                      1\n",
       "@moitdheki Please report to Customer Services on 08600 37566                                                                                        1\n",
       "RT @EngNewsZA: [PART 3]:  @Eskom_SA Announces Interim Results for the six months to 30 September 2019 | #Eskom https://t.co/WlX9B5mq0a              1\n",
       "@sw0702 Ext?                                                                                                                                        1\n",
       "#ESKOMFREESTATE #MEDIASTATEMENT : ESKOM SERVES NOTICE TO STOP PROVISION OF ELECTRICITY SUPPLY SERVICES https://t.co/i2U2k87sUV                      1\n",
       "RT @EngNewsZA: [PART 2]:  @Eskom_SA Announces Interim Results for the six months to 30 September 2019 | #Eskom https://t.co/QdmiUTsnrN              1\n",
       "@tsekiBL Please report your issue to our Customer Services Centre via one of the following channels 0860037566 / SM… https://t.co/3vILkIp6bJ        1\n",
       "#EskomNorthernCape  Contractor Forum\\n\\nReiteration of Safety and Compliance messaging and reflecting on the past yea… https://t.co/BAmRYkzviX      1\n",
       "RT @Exposcience: #FridayThoughts Norman Mashiri from Dr Joseph Shabalala School received the top ICT project award from @SiemensAfrica in p…        1\n",
       "RT @GCISMedia: President Cyril Ramaphosa arrived at Medupi power station for the tour ahead of the launch of District Development Model #Kh…        1\n",
       "@RutterGrant No eta as yet                                                                                                                          1\n",
       "@brox209 You need to enquire with them, as Eskom is not loadshedding                                                                                1\n",
       "@Sandton_News @CityPowerJhb @SAPoliceService We can confirm that a man was electrocuted while allegedly tampering w… https://t.co/iRD60N91gZ        1\n",
       "Eskom prepaid customers are requested to direct all prepaid queries including meter error codes and faults to Custo… https://t.co/jO9Il3OYxi        1\n",
       "RT @GCISMedia: Thousands of Medupi employees gathered at Medupi power station where President Cyril Ramaphosa will address them.#Khawuleza…         1\n",
       "RT @OverstrandMuni: We are currently experiencing a power outage in PEARLY BEACH due to a cable fault. \\nPower is estimated to be restored a…       1\n",
       "#ESKOMFREESTATE #MEDIASTATEMENT : ESKOM SUSPENDS PLANNED ELECTRICITY SUPPLY INTERRUPTIONS TO \\nMANGAUNG METROPOLITAN… https://t.co/MtBo6gjcte       1\n",
       "@d4zza No this is only for direct Eskom customers                                                                                                   1\n",
       "                                                                                                                                                   ..\n",
       "- The promulgation of the Integrated Resource Plan (IRP) set the base for much-needed policy direction in the futur… https://t.co/crpcb7QguH        1\n",
       "#EskomKZN hosted an information sharing session with KZN Top Customers. It was an opportunity to engage meaningfull… https://t.co/EGjrQa7GFM        1\n",
       "@Daniel_P_Carey Lines are working just fine. How can we help you?                                                                                   1\n",
       "#POWERALERT 1\\nDate: 21 November 2019\\n\\nNo loadshedding expected today, despite a constrained and vulnerable system https://t.co/XgwdUh3ivD        1\n",
       "@BongaDlulane Query escalated to media desk.                                                                                                        1\n",
       "@moiponemoabi Please report to Customer Services on 08600 37566                                                                                     1\n",
       "DYK that you can report #poweroutages and meter error codes on MyEskom Customer App https://t.co/99xBTCodMz  ? The… https://t.co/KnpeOA1oLQ         1\n",
       "#Eskom_MediaStatement : Eskom Medupi Unit 2 achieves commercial operation.\\n\\n@IOL @ewnupdates @SAfmnews @SowetanLIVE… https://t.co/5JOJdlkCYS      1\n",
       "#JabuMabuza : While a net profit of R1.3 billion was realised by September, a R20 billion loss is projected by year… https://t.co/9otWn8KhT5        1\n",
       "@Jaxskaapie @ewnreporter @ewnupdates Is the power still off?                                                                                        1\n",
       "@PelisaS Please report to Customer Services  on 08600 37566                                                                                         1\n",
       "@Cgebs1Colinda Hi Colinda, please confirm area and province.                                                                                        1\n",
       "RT @GwedeMantashe1: \"Coal will continue playing a critical role in Energy generation for our country. SA has enough coal for years to come.…        1\n",
       "@maxon_hadebe @CityofJoburgZA Please log a call on MyEskom Customer App https://t.co/99xBTCodMz . The app provides a reference number.              1\n",
       "@mashiyanef Hi, please forward us your reference number and we will follow-up.                                                                      1\n",
       "#POWER ALERT 1\\n\\nDate: 23 November 2019\\n\\nNo loadshedding expected today, despite a constrained and vulnerable system… https://t.co/ZVx80qRENy    1\n",
       "#ESKOMNORTHWEST #MEDIASTATEMENT : NOTICE OF SUPPLY INTERRUPTION IN LICHTENBURG AREA https://t.co/7HfWVxLliT                                         1\n",
       "#EskomGauteng #PowerOutage  Sandton area\\n\\nEskom customers in Sandown and  surrounding areas are experiencing a powe… https://t.co/HDQgMosM7i      1\n",
       "#EskomEasternCape #MediaStatement\\n\\nUpdate: Interruption of bulk electricity supply to Enoch Mgijima Local Municipal… https://t.co/3pzUZ4pNsx      1\n",
       "It is a criminal offence to break or steal covers of meter boxes, sub-stations or other Eskom property.  Making con… https://t.co/y6lug0Ju4b        1\n",
       "Register on our Eskom web Site or on our Mobile MyEskom Customer App (Available in the IOS, Windows and Android App… https://t.co/UBENddpOVn        1\n",
       "RT @CityPowerJhb: #NoorwykPlannedOutage in progress until 17h00. Crescent Wood Estate is affected. We apologise for any inconvenience cause…        1\n",
       "RT @SAgovnews: The President begins his address by honouring the workers at the plant, he says their contribution is recognized. “You have…         1\n",
       "RT @GCISMedia: #Khawuleza President Ramaphosa: Eskom is too important to the life of our country.@GovernmentZA @SAgovnews @LimpopoGcis              1\n",
       "RT @JacksonMthembu_: This morning we visited Eskom’s Medupi Power Station in Lephalale with President Ramaphosa &amp; Minister of Public Enterp…    1\n",
       "RT @SAgovnews: He announces that #MedupiPowerPlant’s Unit 2 has this morning been commissioned. Unit 1, he adds, will be commissioned early…        1\n",
       "RT @SAgovnews: President @CyrilRamaphosa has arrived at the venue. He is accompanied by @DPE_ZA Minister Pravin Gordhan and @Eskom_SA Chair…        1\n",
       "RT @EngNewsZA: [WATCH]:  @Eskom_SA Announces Interim Results for the six months to 30 September 2019 | #Eskom https://t.co/7SB9woD0K3               1\n",
       "#SkaBaiza. Low hanging and fallen cables can be live and dangerous. Never touch or move them!\\n\\nReport these to Esko… https://t.co/91kKFvAfuw      1\n",
       "Illegal connections are a major issue. #Eskom + municipalities remove illegal connections daily but they are reconn… https://t.co/W7dwcFkxgP        1\n",
       "Name: Tweets, Length: 200, dtype: int64"
      ]
     },
     "execution_count": 55,
     "metadata": {},
     "output_type": "execute_result"
    }
   ],
   "source": [
    "twitter_df.Tweets.value_counts()"
   ]
  },
  {
   "cell_type": "markdown",
   "metadata": {},
   "source": [
    "# Function 6: Word Splitter"
   ]
  },
  {
   "cell_type": "code",
   "execution_count": null,
   "metadata": {},
   "outputs": [],
   "source": []
  },
  {
   "cell_type": "code",
   "execution_count": null,
   "metadata": {},
   "outputs": [],
   "source": []
  },
  {
   "cell_type": "markdown",
   "metadata": {},
   "source": [
    "# Function 7: Stop Words & Link Remover"
   ]
  },
  {
   "cell_type": "code",
   "execution_count": 73,
   "metadata": {},
   "outputs": [],
   "source": [
    "import pandas as pd"
   ]
  },
  {
   "cell_type": "code",
   "execution_count": 74,
   "metadata": {},
   "outputs": [],
   "source": [
    "url = 'https://raw.githubusercontent.com/RidhaMoosa/eskom_data-/master/twitter_nov_2019.csv'\n",
    "twitter_df = pd.read_csv(url)\n",
    "\n",
    "dates = twitter_df['Date'].to_list()"
   ]
  },
  {
   "cell_type": "code",
   "execution_count": 82,
   "metadata": {},
   "outputs": [
    {
     "name": "stdout",
     "output_type": "stream",
     "text": [
      "                                                Tweets                 Date\n",
      "0    @BongaDlulane Please send an email to mediades...  2019-11-29 12:50:54\n",
      "1           @saucy_mamiie Pls log a call on 0860037566  2019-11-29 12:46:53\n",
      "2         @BongaDlulane Query escalated to media desk.  2019-11-29 12:46:10\n",
      "3    Before leaving the office this afternoon, head...  2019-11-29 12:33:36\n",
      "4    #ESKOMFREESTATE #MEDIASTATEMENT : ESKOM SUSPEN...  2019-11-29 12:17:43\n",
      "5    @IamGladstone @CityPowerJhb @HermanMashaba The...  2019-11-29 11:28:40\n",
      "6    RT @Exposcience: #FridayMotivation #EskomExpoI...  2019-11-29 11:27:56\n",
      "7    #EskomMpumalanga hosted a Supplier Development...  2019-11-29 11:07:18\n",
      "8    @maxon_hadebe @CityofJoburgZA Please log a cal...  2019-11-29 09:12:47\n",
      "9    @Magudulela_M Hi,  Please log a call on MyEsko...  2019-11-29 09:08:33\n",
      "10   RT @Exposcience: #FridayThoughts Norman Mashir...  2019-11-29 09:08:12\n",
      "11   @Magudulela_M Please report your issue to our ...  2019-11-29 08:55:19\n",
      "12   @maxon_hadebe @CityofJoburgZA Please report yo...  2019-11-29 08:53:33\n",
      "13   #EskomNorthWest Supplier Development and Local...  2019-11-29 08:33:17\n",
      "14   RT @EskomFoundation: Co-founder &amp; CEO of @...  2019-11-29 07:44:48\n",
      "15   #POWERALERT 1\\nDate: 29 November 2019\\n\\nNo lo...  2019-11-29 06:56:21\n",
      "16   #ESKOMFREESTATE #MEDIASTATEMENT\\n\\nRESPONSE TO...  2019-11-28 17:23:01\n",
      "17   It is a criminal offence to break or steal cov...  2019-11-28 16:41:05\n",
      "18   RT @CityPowerJhb: #RandburgOutage City Power i...  2019-11-28 13:34:41\n",
      "19   #EskomGauteng #PowerOutage - Sandton area\\n\\nE...  2019-11-28 13:26:30\n",
      "20   RT @EngNewsZA: [WATCH]:  @Eskom_SA Announces I...  2019-11-28 13:13:13\n",
      "21   RT @EngNewsZA: [PART 3]:  @Eskom_SA Announces ...  2019-11-28 13:13:08\n",
      "22   RT @EngNewsZA: [PART 2]:  @Eskom_SA Announces ...  2019-11-28 13:12:50\n",
      "23   Eskom group interim results for the six months...  2019-11-28 12:53:41\n",
      "24   #EskomMediaStatement : Eskom results indicate ...  2019-11-28 12:50:07\n",
      "25   #JabuMabuza : While a net profit of R1.3 billi...  2019-11-28 12:34:03\n",
      "26   #JabuMabuza : While we continue to face operat...  2019-11-28 12:29:29\n",
      "27   In view of the arrear debt by municipalities a...  2019-11-28 12:25:11\n",
      "28   Eskom requires a cost-reflective tariff increa...  2019-11-28 12:23:32\n",
      "29   Of equal importance is the approval by governm...  2019-11-28 12:20:29\n",
      "..                                                 ...                  ...\n",
      "170  To register a pre-paid meter, visit an Eskom o...  2019-11-22 06:58:37\n",
      "171  Please call your service provider if experienc...  2019-11-21 16:24:48\n",
      "172           @mzwandileMasina https://t.co/Ek3kt248K5  2019-11-21 14:40:04\n",
      "173  #DYK that it can be easy for households to sav...  2019-11-21 14:38:28\n",
      "174  #EskomLimpopo #MediaStatement\\n\\nALLDAYS ELECT...  2019-11-21 13:09:05\n",
      "175  #EskomGauteng partnered with the Sedibeng Disa...  2019-11-21 12:48:00\n",
      "176  Re-purposing of appliances is when an applianc...  2019-11-21 11:14:31\n",
      "177  @moiponemoabi Please report to Customer Servic...  2019-11-21 08:41:09\n",
      "178  #SkaBaiza. Low hanging and fallen cables can b...  2019-11-21 08:39:28\n",
      "179  @evxd Please note that this notice is legit an...  2019-11-21 07:33:46\n",
      "180  Being #energyefficient in the office is simple...  2019-11-21 06:32:22\n",
      "181  #POWERALERT 1\\nDate: 21 November 2019\\n\\nNo lo...  2019-11-21 06:02:15\n",
      "182  RT @CityPowerJhb: UPDATE: Beyers Naude Prince ...  2019-11-20 18:05:14\n",
      "183  RT @CityPowerJhb: #update: Distributor supplyi...  2019-11-20 18:04:30\n",
      "184  RT @CityPowerJhb: #UPDATE JG Strydom distribut...  2019-11-20 18:04:15\n",
      "185  Have you tried the ‘MyEskom Customer App’ http...  2019-11-20 16:37:49\n",
      "186  #EskomNorthernCape  Contractor Forum\\n\\nReiter...  2019-11-20 15:28:02\n",
      "187  @Marumofase77 @SABCNewsOnline @IOL @eNCA @ewnu...  2019-11-20 14:53:56\n",
      "188  #EskomKZN hosted an information sharing sessio...  2019-11-20 14:49:40\n",
      "189  When you are at home, you spend most of your t...  2019-11-20 14:28:12\n",
      "190     #ICYMI FAKE NEWS ALERT https://t.co/puFHTfLOEJ  2019-11-20 14:17:59\n",
      "191  RT @Exposcience: Why waste water? Tshepang Hla...  2019-11-20 14:01:55\n",
      "192  #EskomLimpopo :  Customers in  Mantsole area a...  2019-11-20 13:57:02\n",
      "193  RT @CityPowerJhb: UPDATE: RegionF\\n#HuddonPlan...  2019-11-20 13:26:30\n",
      "194  #PublicSafety: Make sure that you and your fam...  2019-11-20 12:19:17\n",
      "195  Eskom's Visitors Centres’ facilities include i...  2019-11-20 10:29:07\n",
      "196  #Eskom connected 400 houses and in the process...  2019-11-20 10:25:20\n",
      "197       @ArthurGodbeer Is the power restored as yet?  2019-11-20 10:07:59\n",
      "198  @MuthambiPaulina @SABCNewsOnline @IOL @eNCA @e...  2019-11-20 10:07:41\n",
      "199  RT @GP_DHS: The @GautengProvince made a commit...  2019-11-20 10:00:09\n",
      "\n",
      "[200 rows x 2 columns]\n"
     ]
    }
   ],
   "source": [
    "print(twitter_df)"
   ]
  },
  {
   "cell_type": "code",
   "execution_count": 10,
   "metadata": {},
   "outputs": [
    {
     "ename": "NameError",
     "evalue": "name 'twitter_df' is not defined",
     "output_type": "error",
     "traceback": [
      "\u001b[1;31m---------------------------------------------------------------------------\u001b[0m",
      "\u001b[1;31mNameError\u001b[0m                                 Traceback (most recent call last)",
      "\u001b[1;32m<ipython-input-10-222a590d5f32>\u001b[0m in \u001b[0;36m<module>\u001b[1;34m\u001b[0m\n\u001b[0;32m      8\u001b[0m     \u001b[0mcomment_words\u001b[0m \u001b[1;33m=\u001b[0m \u001b[1;34m' '\u001b[0m\u001b[1;33m\u001b[0m\u001b[1;33m\u001b[0m\u001b[0m\n\u001b[0;32m      9\u001b[0m     \u001b[0mstopwords\u001b[0m \u001b[1;33m=\u001b[0m \u001b[0mset\u001b[0m\u001b[1;33m(\u001b[0m\u001b[0mstopwords\u001b[0m\u001b[1;33m)\u001b[0m\u001b[1;33m\u001b[0m\u001b[1;33m\u001b[0m\u001b[0m\n\u001b[1;32m---> 10\u001b[1;33m \u001b[1;32mfor\u001b[0m \u001b[0mval\u001b[0m \u001b[1;32min\u001b[0m \u001b[0mtwitter_df\u001b[0m\u001b[1;33m:\u001b[0m\u001b[1;33m\u001b[0m\u001b[1;33m\u001b[0m\u001b[0m\n\u001b[0m\u001b[0;32m     11\u001b[0m     \u001b[0mval\u001b[0m \u001b[1;33m=\u001b[0m \u001b[0mstr\u001b[0m\u001b[1;33m(\u001b[0m\u001b[0mval\u001b[0m\u001b[1;33m)\u001b[0m\u001b[1;33m\u001b[0m\u001b[1;33m\u001b[0m\u001b[0m\n\u001b[0;32m     12\u001b[0m     \u001b[0mtokens\u001b[0m \u001b[1;33m=\u001b[0m \u001b[0mval\u001b[0m\u001b[1;33m.\u001b[0m\u001b[0msplit\u001b[0m\u001b[1;33m(\u001b[0m\u001b[1;33m)\u001b[0m\u001b[1;33m\u001b[0m\u001b[1;33m\u001b[0m\u001b[0m\n",
      "\u001b[1;31mNameError\u001b[0m: name 'twitter_df' is not defined"
     ]
    }
   ],
   "source": [
    "\n",
    "############################\n",
    "###Still need to be fixed\n",
    "##############################\n",
    "\n",
    "\n",
    "def stop_words_http_remover(twitter_df):\n",
    "    stop_words_dict = {'stopwords':['where', 'done', 'if', 'before', 'll', 'very', 'keep', 'something', 'nothing', 'thereupon', 'may', 'why', '’s', 'therefore', 'you', 'with', 'towards', 'make', 'really', 'few', 'former', 'during', 'mine', 'do', 'would', 'of', 'off', 'six', 'yourself', 'becoming', 'through', 'seeming', 'hence', 'us', 'anywhere', 'regarding', 'whole', 'down', 'seem', 'whereas', 'to', 'their', 'various', 'thereafter', '‘d', 'above', 'put', 'sometime', 'moreover', 'whoever', 'although', 'at', 'four', 'each', 'among', 'whatever', 'any', 'anyhow', 'herein', 'become', 'last', 'between', 'still', 'was', 'almost', 'twelve', 'used', 'who', 'go', 'not', 'enough', 'well', '’ve', 'might', 'see', 'whose', 'everywhere', 'yourselves', 'across', 'myself', 'further', 'did', 'then', 'is', 'except', 'up', 'take', 'became', 'however', 'many', 'thence', 'onto', '‘m', 'my', 'own', 'must', 'wherein', 'elsewhere', 'behind', 'becomes', 'alone', 'due', 'being', 'neither', 'a', 'over', 'beside', 'fifteen', 'meanwhile', 'upon', 'next', 'forty', 'what', 'less', 'and', 'please', 'toward', 'about', 'below', 'hereafter', 'whether', 'yet', 'nor', 'against', 'whereupon', 'top', 'first', 'three', 'show', 'per', 'five', 'two', 'ourselves', 'whenever', 'get', 'thereby', 'noone', 'had', 'now', 'everyone', 'everything', 'nowhere', 'ca', 'though', 'least', 'so', 'both', 'otherwise', 'whereby', 'unless', 'somewhere', 'give', 'formerly', '’d', 'under', 'while', 'empty', 'doing', 'besides', 'thus', 'this', 'anyone', 'its', 'after', 'bottom', 'call', 'n’t', 'name', 'even', 'eleven', 'by', 'from', 'when', 'or', 'anyway', 'how', 'the', 'all', 'much', 'another', 'since', 'hundred', 'serious', '‘ve', 'ever', 'out', 'full', 'themselves', 'been', 'in', \"'d\", 'wherever', 'part', 'someone', 'therein', 'can', 'seemed', 'hereby', 'others', \"'s\", \"'re\", 'most', 'one', \"n't\", 'into', 'some', 'will', 'these', 'twenty', 'here', 'as', 'nobody', 'also', 'along', 'than', 'anything', 'he', 'there', 'does', 'we', '’ll', 'latterly', 'are', 'ten', 'hers', 'should', 'they', '‘s', 'either', 'am', 'be', 'perhaps', '’re', 'only', 'namely', 'sixty', 'made', \"'m\", 'always', 'those', 'have', 'again', 'her', 'once', 'ours', 'herself', 'else', 'has', 'nine', 'more', 'sometimes', 'your', 'yours', 'that', 'around', 'his', 'indeed', 'mostly', 'cannot', '‘ll', 'too', 'seems', '’m', 'himself', 'latter', 'whither', 'amount', 'other', 'nevertheless', 'whom', 'for', 'somehow', 'beforehand', 'just', 'an', 'beyond', 'amongst', 'none', \"'ve\", 'say', 'via', 'but', 'often', 're', 'our', 'because', 'rather', 'using', 'without', 'throughout', 'on', 'she', 'never', 'eight', 'no', 'hereupon', 'them', 'whereafter', 'quite', 'which', 'move', 'thru', 'until', 'afterwards', 'fifty', 'i', 'itself', 'n‘t', 'him', 'could', 'front', 'within', '‘re', 'back', 'such', 'already', 'several', 'side', 'whence', 'me', 'same', 'were', 'it', 'every', 'third', 'together']}\n",
    "    comment_words = ' ' \n",
    "    stopwords = set(stopwords) \n",
    "for val in twitter_df:\n",
    "    val = str(val) \n",
    "    tokens = val.split() \n",
    "for i in range(len(tokens)):\n",
    "    tokens[i] = tokens[i].lower() \n",
    "for words in tokens:\n",
    "    comment_words = comment_words + words + ' '\n",
    "return twitter_df\n",
    "stop_words_http_remover(twitter_df)\n"
   ]
  },
  {
   "cell_type": "code",
   "execution_count": null,
   "metadata": {},
   "outputs": [],
   "source": [
    "stop_words_dict = {'stopwords':['where', 'done', 'if', 'before', 'll', 'very', 'keep', 'something', 'nothing', 'thereupon', 'may', 'why', '’s', 'therefore', 'you', 'with', 'towards', 'make', 'really', 'few', 'former', 'during', 'mine', 'do', 'would', 'of', 'off', 'six', 'yourself', 'becoming', 'through', 'seeming', 'hence', 'us', 'anywhere', 'regarding', 'whole', 'down', 'seem', 'whereas', 'to', 'their', 'various', 'thereafter', '‘d', 'above', 'put', 'sometime', 'moreover', 'whoever', 'although', 'at', 'four', 'each', 'among', 'whatever', 'any', 'anyhow', 'herein', 'become', 'last', 'between', 'still', 'was', 'almost', 'twelve', 'used', 'who', 'go', 'not', 'enough', 'well', '’ve', 'might', 'see', 'whose', 'everywhere', 'yourselves', 'across', 'myself', 'further', 'did', 'then', 'is', 'except', 'up', 'take', 'became', 'however', 'many', 'thence', 'onto', '‘m', 'my', 'own', 'must', 'wherein', 'elsewhere', 'behind', 'becomes', 'alone', 'due', 'being', 'neither', 'a', 'over', 'beside', 'fifteen', 'meanwhile', 'upon', 'next', 'forty', 'what', 'less', 'and', 'please', 'toward', 'about', 'below', 'hereafter', 'whether', 'yet', 'nor', 'against', 'whereupon', 'top', 'first', 'three', 'show', 'per', 'five', 'two', 'ourselves', 'whenever', 'get', 'thereby', 'noone', 'had', 'now', 'everyone', 'everything', 'nowhere', 'ca', 'though', 'least', 'so', 'both', 'otherwise', 'whereby', 'unless', 'somewhere', 'give', 'formerly', '’d', 'under', 'while', 'empty', 'doing', 'besides', 'thus', 'this', 'anyone', 'its', 'after', 'bottom', 'call', 'n’t', 'name', 'even', 'eleven', 'by', 'from', 'when', 'or', 'anyway', 'how', 'the', 'all', 'much', 'another', 'since', 'hundred', 'serious', '‘ve', 'ever', 'out', 'full', 'themselves', 'been', 'in', \"'d\", 'wherever', 'part', 'someone', 'therein', 'can', 'seemed', 'hereby', 'others', \"'s\", \"'re\", 'most', 'one', \"n't\", 'into', 'some', 'will', 'these', 'twenty', 'here', 'as', 'nobody', 'also', 'along', 'than', 'anything', 'he', 'there', 'does', 'we', '’ll', 'latterly', 'are', 'ten', 'hers', 'should', 'they', '‘s', 'either', 'am', 'be', 'perhaps', '’re', 'only', 'namely', 'sixty', 'made', \"'m\", 'always', 'those', 'have', 'again', 'her', 'once', 'ours', 'herself', 'else', 'has', 'nine', 'more', 'sometimes', 'your', 'yours', 'that', 'around', 'his', 'indeed', 'mostly', 'cannot', '‘ll', 'too', 'seems', '’m', 'himself', 'latter', 'whither', 'amount', 'other', 'nevertheless', 'whom', 'for', 'somehow', 'beforehand', 'just', 'an', 'beyond', 'amongst', 'none', \"'ve\", 'say', 'via', 'but', 'often', 're', 'our', 'because', 'rather', 'using', 'without', 'throughout', 'on', 'she', 'never', 'eight', 'no', 'hereupon', 'them', 'whereafter', 'quite', 'which', 'move', 'thru', 'until', 'afterwards', 'fifty', 'i', 'itself', 'n‘t', 'him', 'could', 'front', 'within', '‘re', 'back', 'such', 'already', 'several', 'side', 'whence', 'me', 'same', 'were', 'it', 'every', 'third', 'together']}\n"
   ]
  },
  {
   "cell_type": "code",
   "execution_count": 11,
   "metadata": {},
   "outputs": [
    {
     "ename": "IndentationError",
     "evalue": "expected an indented block (<ipython-input-11-54a2828b1ea7>, line 2)",
     "output_type": "error",
     "traceback": [
      "\u001b[1;36m  File \u001b[1;32m\"<ipython-input-11-54a2828b1ea7>\"\u001b[1;36m, line \u001b[1;32m2\u001b[0m\n\u001b[1;33m    with open('stop_words_dict') as stopfile:\u001b[0m\n\u001b[1;37m       ^\u001b[0m\n\u001b[1;31mIndentationError\u001b[0m\u001b[1;31m:\u001b[0m expected an indented block\n"
     ]
    }
   ],
   "source": [
    "def remove_stopwords(twitter_df):\n",
    "with open('stop_words_dict') as stopfile:\n",
    "    stop_words_dict = stopfile.read()\n",
    "    list = stop_words_dict.split()\n",
    "    print(list)\n",
    "    with open('link_remover') as workfile:\n",
    "        read_data = workfile.read()\n",
    "        data = read_data.split()\n",
    "        print(data)\n",
    "        for word1 in list:\n",
    "            for word2 in data:\n",
    "                if word1 == word2:\n",
    "                    return data.remove(list)\n",
    "                    print(remove_Stopwords)"
   ]
  },
  {
   "cell_type": "code",
   "execution_count": 19,
   "metadata": {},
   "outputs": [
    {
     "name": "stdout",
     "output_type": "stream",
     "text": [
      "[3 3 6 4 2 6 5 6 4 2]\n"
     ]
    }
   ],
   "source": [
    "import numpy as np\n",
    "outcomes = np.random.randint(1,7, size=10)\n",
    "print(outcomes)"
   ]
  },
  {
   "cell_type": "code",
   "execution_count": null,
   "metadata": {},
   "outputs": [],
   "source": []
  }
 ],
 "metadata": {
  "kernelspec": {
   "display_name": "Python 3",
   "language": "python",
   "name": "python3"
  },
  "language_info": {
   "codemirror_mode": {
    "name": "ipython",
    "version": 3
   },
   "file_extension": ".py",
   "mimetype": "text/x-python",
   "name": "python",
   "nbconvert_exporter": "python",
   "pygments_lexer": "ipython3",
   "version": "3.7.4"
  }
 },
 "nbformat": 4,
 "nbformat_minor": 2
}
